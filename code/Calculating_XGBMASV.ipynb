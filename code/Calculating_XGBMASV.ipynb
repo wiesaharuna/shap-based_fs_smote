{
 "cells": [
  {
   "cell_type": "markdown",
   "id": "3d668225",
   "metadata": {},
   "source": [
    "Menghitung nilai MASV menggunakan model Random Forest  "
   ]
  },
  {
   "cell_type": "code",
   "execution_count": 24,
   "id": "bd508573",
   "metadata": {},
   "outputs": [],
   "source": [
    "import shap\n",
    "import numpy as np\n",
    "import pandas as pd\n",
    "import time \n",
    "import ast\n",
    "from xgboost import XGBClassifier"
   ]
  },
  {
   "cell_type": "code",
   "execution_count": null,
   "id": "235104df",
   "metadata": {},
   "outputs": [
    {
     "name": "stdout",
     "output_type": "stream",
     "text": [
      "First 5 Rows of the Dataset:\n",
      "   Destination Port  Flow Duration  Total Fwd Packets  Total Backward Packets  \\\n",
      "0                53          62564                  2                       2   \n",
      "1                53            222                  2                       2   \n",
      "2             62194            331                  3                       1   \n",
      "3               443         423498                 14                      10   \n",
      "4                80      115826152                 18                      18   \n",
      "\n",
      "   Total Length of Fwd Packets  Total Length of Bwd Packets  \\\n",
      "0                           70                          228   \n",
      "1                           84                          168   \n",
      "2                           43                            6   \n",
      "3                          841                         5082   \n",
      "4                         1893                         7141   \n",
      "\n",
      "   Fwd Packet Length Max  Fwd Packet Length Min  Fwd Packet Length Mean  \\\n",
      "0                     35                     35               35.000000   \n",
      "1                     42                     42               42.000000   \n",
      "2                     31                      6               14.333333   \n",
      "3                    357                      0               60.071429   \n",
      "4                   1893                      0              105.166667   \n",
      "\n",
      "   Fwd Packet Length Std  ...  min_seg_size_forward   Active Mean  \\\n",
      "0               0.000000  ...                    32      0.000000   \n",
      "1               0.000000  ...                    32      0.000000   \n",
      "2              14.433757  ...                    20      0.000000   \n",
      "3             113.365620  ...                    32      0.000000   \n",
      "4             446.184379  ...                    32  34188.636364   \n",
      "\n",
      "     Active Std  Active Max  Active Min     Idle Mean     Idle Std  Idle Max  \\\n",
      "0      0.000000           0           0  0.000000e+00     0.000000         0   \n",
      "1      0.000000           0           0  0.000000e+00     0.000000         0   \n",
      "2      0.000000           0           0  0.000000e+00     0.000000         0   \n",
      "3      0.000000           0           0  0.000000e+00     0.000000         0   \n",
      "4  10591.695448       66122       30823  1.001612e+07  7505.429507  10028843   \n",
      "\n",
      "   Idle Min  Label  \n",
      "0         0      0  \n",
      "1         0      0  \n",
      "2         0      0  \n",
      "3         0      0  \n",
      "4   9996232      0  \n",
      "\n",
      "[5 rows x 78 columns]\n",
      "\n",
      "Class Distribution:\n",
      "Label\n",
      "0    1135666\n",
      "3     189875\n",
      "5      79409\n",
      "2       6915\n",
      "6       1090\n",
      "1        976\n",
      "4         18\n",
      "Name: count, dtype: int64\n"
     ]
    }
   ],
   "source": [
    "# 1. Load the saved dataset\n",
    "dataset = pd.read_csv(\"results/cicids2017_cleaned_numericable.csv\")\n",
    "\n",
    "# Display the first 5 rows of the dataset\n",
    "print(\"First 5 Rows of the Dataset:\")\n",
    "print(dataset.head())\n",
    "\n",
    "# Display the class distribution in the 'Label' column\n",
    "print(\"\\nClass Distribution:\")\n",
    "print(dataset['Label'].value_counts())\n"
   ]
  },
  {
   "cell_type": "code",
   "execution_count": 26,
   "id": "b75a5b95",
   "metadata": {},
   "outputs": [],
   "source": [
    "# 2. Separate features and labels (assuming the last column is the label)\n",
    "X = dataset.drop(columns=['Label'])\n",
    "y = dataset['Label']"
   ]
  },
  {
   "cell_type": "code",
   "execution_count": 27,
   "id": "6462950c",
   "metadata": {},
   "outputs": [
    {
     "name": "stderr",
     "output_type": "stream",
     "text": [
      "`use_label_encoder` is deprecated in 1.7.0.\n"
     ]
    },
    {
     "data": {
      "text/html": [
       "<style>#sk-container-id-2 {color: black;}#sk-container-id-2 pre{padding: 0;}#sk-container-id-2 div.sk-toggleable {background-color: white;}#sk-container-id-2 label.sk-toggleable__label {cursor: pointer;display: block;width: 100%;margin-bottom: 0;padding: 0.3em;box-sizing: border-box;text-align: center;}#sk-container-id-2 label.sk-toggleable__label-arrow:before {content: \"▸\";float: left;margin-right: 0.25em;color: #696969;}#sk-container-id-2 label.sk-toggleable__label-arrow:hover:before {color: black;}#sk-container-id-2 div.sk-estimator:hover label.sk-toggleable__label-arrow:before {color: black;}#sk-container-id-2 div.sk-toggleable__content {max-height: 0;max-width: 0;overflow: hidden;text-align: left;background-color: #f0f8ff;}#sk-container-id-2 div.sk-toggleable__content pre {margin: 0.2em;color: black;border-radius: 0.25em;background-color: #f0f8ff;}#sk-container-id-2 input.sk-toggleable__control:checked~div.sk-toggleable__content {max-height: 200px;max-width: 100%;overflow: auto;}#sk-container-id-2 input.sk-toggleable__control:checked~label.sk-toggleable__label-arrow:before {content: \"▾\";}#sk-container-id-2 div.sk-estimator input.sk-toggleable__control:checked~label.sk-toggleable__label {background-color: #d4ebff;}#sk-container-id-2 div.sk-label input.sk-toggleable__control:checked~label.sk-toggleable__label {background-color: #d4ebff;}#sk-container-id-2 input.sk-hidden--visually {border: 0;clip: rect(1px 1px 1px 1px);clip: rect(1px, 1px, 1px, 1px);height: 1px;margin: -1px;overflow: hidden;padding: 0;position: absolute;width: 1px;}#sk-container-id-2 div.sk-estimator {font-family: monospace;background-color: #f0f8ff;border: 1px dotted black;border-radius: 0.25em;box-sizing: border-box;margin-bottom: 0.5em;}#sk-container-id-2 div.sk-estimator:hover {background-color: #d4ebff;}#sk-container-id-2 div.sk-parallel-item::after {content: \"\";width: 100%;border-bottom: 1px solid gray;flex-grow: 1;}#sk-container-id-2 div.sk-label:hover label.sk-toggleable__label {background-color: #d4ebff;}#sk-container-id-2 div.sk-serial::before {content: \"\";position: absolute;border-left: 1px solid gray;box-sizing: border-box;top: 0;bottom: 0;left: 50%;z-index: 0;}#sk-container-id-2 div.sk-serial {display: flex;flex-direction: column;align-items: center;background-color: white;padding-right: 0.2em;padding-left: 0.2em;position: relative;}#sk-container-id-2 div.sk-item {position: relative;z-index: 1;}#sk-container-id-2 div.sk-parallel {display: flex;align-items: stretch;justify-content: center;background-color: white;position: relative;}#sk-container-id-2 div.sk-item::before, #sk-container-id-2 div.sk-parallel-item::before {content: \"\";position: absolute;border-left: 1px solid gray;box-sizing: border-box;top: 0;bottom: 0;left: 50%;z-index: -1;}#sk-container-id-2 div.sk-parallel-item {display: flex;flex-direction: column;z-index: 1;position: relative;background-color: white;}#sk-container-id-2 div.sk-parallel-item:first-child::after {align-self: flex-end;width: 50%;}#sk-container-id-2 div.sk-parallel-item:last-child::after {align-self: flex-start;width: 50%;}#sk-container-id-2 div.sk-parallel-item:only-child::after {width: 0;}#sk-container-id-2 div.sk-dashed-wrapped {border: 1px dashed gray;margin: 0 0.4em 0.5em 0.4em;box-sizing: border-box;padding-bottom: 0.4em;background-color: white;}#sk-container-id-2 div.sk-label label {font-family: monospace;font-weight: bold;display: inline-block;line-height: 1.2em;}#sk-container-id-2 div.sk-label-container {text-align: center;}#sk-container-id-2 div.sk-container {/* jupyter's `normalize.less` sets `[hidden] { display: none; }` but bootstrap.min.css set `[hidden] { display: none !important; }` so we also need the `!important` here to be able to override the default hidden behavior on the sphinx rendered scikit-learn.org. See: https://github.com/scikit-learn/scikit-learn/issues/21755 */display: inline-block !important;position: relative;}#sk-container-id-2 div.sk-text-repr-fallback {display: none;}</style><div id=\"sk-container-id-2\" class=\"sk-top-container\"><div class=\"sk-text-repr-fallback\"><pre>XGBClassifier(base_score=None, booster=None, callbacks=None,\n",
       "              colsample_bylevel=None, colsample_bynode=None,\n",
       "              colsample_bytree=None, early_stopping_rounds=None,\n",
       "              enable_categorical=False, eval_metric=&#x27;mlogloss&#x27;,\n",
       "              feature_types=None, gamma=None, gpu_id=None, grow_policy=None,\n",
       "              importance_type=None, interaction_constraints=None,\n",
       "              learning_rate=None, max_bin=None, max_cat_threshold=None,\n",
       "              max_cat_to_onehot=None, max_delta_step=None, max_depth=None,\n",
       "              max_leaves=None, min_child_weight=None, missing=nan,\n",
       "              monotone_constraints=None, n_estimators=100, n_jobs=None,\n",
       "              num_parallel_tree=None, objective=&#x27;multi:softprob&#x27;,\n",
       "              predictor=None, ...)</pre><b>In a Jupyter environment, please rerun this cell to show the HTML representation or trust the notebook. <br />On GitHub, the HTML representation is unable to render, please try loading this page with nbviewer.org.</b></div><div class=\"sk-container\" hidden><div class=\"sk-item\"><div class=\"sk-estimator sk-toggleable\"><input class=\"sk-toggleable__control sk-hidden--visually\" id=\"sk-estimator-id-2\" type=\"checkbox\" checked><label for=\"sk-estimator-id-2\" class=\"sk-toggleable__label sk-toggleable__label-arrow\">XGBClassifier</label><div class=\"sk-toggleable__content\"><pre>XGBClassifier(base_score=None, booster=None, callbacks=None,\n",
       "              colsample_bylevel=None, colsample_bynode=None,\n",
       "              colsample_bytree=None, early_stopping_rounds=None,\n",
       "              enable_categorical=False, eval_metric=&#x27;mlogloss&#x27;,\n",
       "              feature_types=None, gamma=None, gpu_id=None, grow_policy=None,\n",
       "              importance_type=None, interaction_constraints=None,\n",
       "              learning_rate=None, max_bin=None, max_cat_threshold=None,\n",
       "              max_cat_to_onehot=None, max_delta_step=None, max_depth=None,\n",
       "              max_leaves=None, min_child_weight=None, missing=nan,\n",
       "              monotone_constraints=None, n_estimators=100, n_jobs=None,\n",
       "              num_parallel_tree=None, objective=&#x27;multi:softprob&#x27;,\n",
       "              predictor=None, ...)</pre></div></div></div></div></div>"
      ],
      "text/plain": [
       "XGBClassifier(base_score=None, booster=None, callbacks=None,\n",
       "              colsample_bylevel=None, colsample_bynode=None,\n",
       "              colsample_bytree=None, early_stopping_rounds=None,\n",
       "              enable_categorical=False, eval_metric='mlogloss',\n",
       "              feature_types=None, gamma=None, gpu_id=None, grow_policy=None,\n",
       "              importance_type=None, interaction_constraints=None,\n",
       "              learning_rate=None, max_bin=None, max_cat_threshold=None,\n",
       "              max_cat_to_onehot=None, max_delta_step=None, max_depth=None,\n",
       "              max_leaves=None, min_child_weight=None, missing=nan,\n",
       "              monotone_constraints=None, n_estimators=100, n_jobs=None,\n",
       "              num_parallel_tree=None, objective='multi:softprob',\n",
       "              predictor=None, ...)"
      ]
     },
     "execution_count": 27,
     "metadata": {},
     "output_type": "execute_result"
    }
   ],
   "source": [
    "# 3. Train the XGBoost model\n",
    "xgb_model = XGBClassifier(n_estimators=100, random_state=42, use_label_encoder=False, eval_metric='mlogloss')\n",
    "xgb_model.fit(X, y)"
   ]
  },
  {
   "cell_type": "code",
   "execution_count": 28,
   "id": "77c9c890",
   "metadata": {},
   "outputs": [
    {
     "name": "stderr",
     "output_type": "stream",
     "text": [
      "ntree_limit is deprecated, use `iteration_range` or model slicing instead.\n"
     ]
    },
    {
     "name": "stdout",
     "output_type": "stream",
     "text": [
      "\n",
      "⏱️ SHAP computation time: 591.77 seconds\n"
     ]
    }
   ],
   "source": [
    "# 4. Compute SHAP values for the XGBoost model\n",
    "# Using TreeExplainer without a subset\n",
    "explainer = shap.TreeExplainer(xgb_model)\n",
    "start_time = time.time()\n",
    "shap_values = explainer.shap_values(X)\n",
    "elapsed_time = time.time() - start_time\n",
    "print(f\"\\n⏱️ SHAP computation time: {elapsed_time:.2f} seconds\")"
   ]
  },
  {
   "cell_type": "code",
   "execution_count": null,
   "id": "9687afee",
   "metadata": {},
   "outputs": [
    {
     "name": "stdout",
     "output_type": "stream",
     "text": [
      "Shape of SHAP values: (7, 1413949, 77)\n",
      "Shape of X: (1413949, 77)\n",
      "Multiclass case detected.\n",
      "Shape of shap_abs_values after processing: (1413949, 77)\n",
      "Error: Shape of SHAP values (1413949, 77) does not match the number of features 77.\n",
      "\n",
      "⏱️ Waktu perhitungan MASV: 3.63 detik\n"
     ]
    }
   ],
   "source": [
    "def mean_abs_shap_values(shap_values, X):\n",
    "    \"\"\"\n",
    "    Computes the mean absolute SHAP values for multiclass or binary classification.\n",
    "    \"\"\"\n",
    "    print(f\"Shape of SHAP values: {np.shape(shap_values)}\")  # Debugging: display the shape of shap_values\n",
    "    print(f\"Shape of X: {X.shape}\")  # Debugging: display the shape of X\n",
    "\n",
    "    # Multiclass handling: SHAP values are a list (one array per class)\n",
    "    if isinstance(shap_values, list):  # Multiclass: shap_values is a list\n",
    "        print(\"Multiclass case detected.\")  # Debugging\n",
    "        # Take the absolute SHAP values and compute the mean across samples and classes\n",
    "        shap_abs_values = np.mean([np.abs(class_shap) for class_shap in shap_values], axis=0)  # Mean across classes\n",
    "    elif shap_values.ndim == 3:  # Multiclass with 3D array (n_samples, n_features, n_classes)\n",
    "        print(\"Multiclass array case detected.\")  # Debugging\n",
    "        shap_abs_values = np.abs(shap_values).mean(axis=0).mean(axis=1)  # Mean over samples and classes\n",
    "    else:\n",
    "        # Binary or regression case\n",
    "        print(\"Binary/Regression case detected.\")  # Debugging\n",
    "        shap_abs_values = np.abs(shap_values).mean(axis=0)  # Take the absolute value and mean across samples\n",
    "\n",
    "    print(f\"Shape of shap_abs_values after processing: {shap_abs_values.shape}\")  # Debugging\n",
    "\n",
    "    # Ensure the number of features matches the number of columns in X\n",
    "    num_features = X.shape[1]\n",
    "    if shap_abs_values.shape[0] != num_features:\n",
    "        raise ValueError(f\"Shape of SHAP values {shap_abs_values.shape} does not match the number of features {num_features}.\")\n",
    "\n",
    "    # Create a DataFrame from the mean absolute SHAP values\n",
    "    shap_importance = pd.DataFrame(shap_abs_values, index=X.columns, columns=['Mean |SHAP|'])\n",
    "\n",
    "    # Ensure the order matches the order of columns in X\n",
    "    shap_importance = shap_importance.loc[X.columns]\n",
    "    \n",
    "    return shap_importance\n",
    "\n",
    "# ========== MODIFIKASI: Catat waktu proses ==========\n",
    "start_time = time.time()\n",
    "# Panggil fungsi dengan perbaikan\n",
    "try:\n",
    "    shap_importance_xgb = mean_abs_shap_values(shap_values, X)\n",
    "\n",
    "    # Menampilkan beberapa baris pertama hasil\n",
    "    print(shap_importance_xgb.head())  # Menampilkan 5 fitur teratas dengan MASV tertinggi\n",
    "\n",
    "    # Menyimpan hasil ke CSV tanpa urutan ranking\n",
    "    shap_importance_xgb.to_csv(\"results/shap_xgb_no_ranking.csv\")\n",
    "\n",
    "    print(\"Mean absolute SHAP values untuk XGBoost telah disimpan ke file CSV.\")\n",
    "except ValueError as e:\n",
    "    print(f\"Error: {e}\")\n",
    "\n",
    "end_time = time.time()\n",
    "duration = end_time - start_time\n",
    "print(f\"\\n⏱️ Waktu perhitungan MASV: {duration:.2f} detik\")"
   ]
  },
  {
   "cell_type": "code",
   "execution_count": null,
   "id": "360e2619",
   "metadata": {},
   "outputs": [
    {
     "ename": "FileNotFoundError",
     "evalue": "[Errno 2] No such file or directory: 'C:/Users/user/Desktop/shap-based_fs_smote/results/shap_xgb_no_ranking.csv'",
     "output_type": "error",
     "traceback": [
      "\u001b[1;31m---------------------------------------------------------------------------\u001b[0m",
      "\u001b[1;31mFileNotFoundError\u001b[0m                         Traceback (most recent call last)",
      "Cell \u001b[1;32mIn[11], line 2\u001b[0m\n\u001b[0;32m      1\u001b[0m \u001b[38;5;66;03m# Read the CSV file\u001b[39;00m\n\u001b[1;32m----> 2\u001b[0m df \u001b[38;5;241m=\u001b[39m \u001b[43mpd\u001b[49m\u001b[38;5;241;43m.\u001b[39;49m\u001b[43mread_csv\u001b[49m\u001b[43m(\u001b[49m\u001b[38;5;124;43m\"\u001b[39;49m\u001b[38;5;124;43mC:/Users/user/Desktop/shap-based_fs_smote/results/shap_xgb_no_ranking.csv\u001b[39;49m\u001b[38;5;124;43m\"\u001b[39;49m\u001b[43m)\u001b[49m\n\u001b[0;32m      4\u001b[0m \u001b[38;5;66;03m# Set display option to show all rows\u001b[39;00m\n\u001b[0;32m      5\u001b[0m pd\u001b[38;5;241m.\u001b[39mset_option(\u001b[38;5;124m'\u001b[39m\u001b[38;5;124mdisplay.max_rows\u001b[39m\u001b[38;5;124m'\u001b[39m, \u001b[38;5;28;01mNone\u001b[39;00m)  \u001b[38;5;66;03m# Display all rows\u001b[39;00m\n",
      "File \u001b[1;32mc:\\Users\\user\\Desktop\\shap-based_fs_smote\\venv\\lib\\site-packages\\pandas\\io\\parsers\\readers.py:1026\u001b[0m, in \u001b[0;36mread_csv\u001b[1;34m(filepath_or_buffer, sep, delimiter, header, names, index_col, usecols, dtype, engine, converters, true_values, false_values, skipinitialspace, skiprows, skipfooter, nrows, na_values, keep_default_na, na_filter, verbose, skip_blank_lines, parse_dates, infer_datetime_format, keep_date_col, date_parser, date_format, dayfirst, cache_dates, iterator, chunksize, compression, thousands, decimal, lineterminator, quotechar, quoting, doublequote, escapechar, comment, encoding, encoding_errors, dialect, on_bad_lines, delim_whitespace, low_memory, memory_map, float_precision, storage_options, dtype_backend)\u001b[0m\n\u001b[0;32m   1013\u001b[0m kwds_defaults \u001b[38;5;241m=\u001b[39m _refine_defaults_read(\n\u001b[0;32m   1014\u001b[0m     dialect,\n\u001b[0;32m   1015\u001b[0m     delimiter,\n\u001b[1;32m   (...)\u001b[0m\n\u001b[0;32m   1022\u001b[0m     dtype_backend\u001b[38;5;241m=\u001b[39mdtype_backend,\n\u001b[0;32m   1023\u001b[0m )\n\u001b[0;32m   1024\u001b[0m kwds\u001b[38;5;241m.\u001b[39mupdate(kwds_defaults)\n\u001b[1;32m-> 1026\u001b[0m \u001b[38;5;28;01mreturn\u001b[39;00m \u001b[43m_read\u001b[49m\u001b[43m(\u001b[49m\u001b[43mfilepath_or_buffer\u001b[49m\u001b[43m,\u001b[49m\u001b[43m \u001b[49m\u001b[43mkwds\u001b[49m\u001b[43m)\u001b[49m\n",
      "File \u001b[1;32mc:\\Users\\user\\Desktop\\shap-based_fs_smote\\venv\\lib\\site-packages\\pandas\\io\\parsers\\readers.py:620\u001b[0m, in \u001b[0;36m_read\u001b[1;34m(filepath_or_buffer, kwds)\u001b[0m\n\u001b[0;32m    617\u001b[0m _validate_names(kwds\u001b[38;5;241m.\u001b[39mget(\u001b[38;5;124m\"\u001b[39m\u001b[38;5;124mnames\u001b[39m\u001b[38;5;124m\"\u001b[39m, \u001b[38;5;28;01mNone\u001b[39;00m))\n\u001b[0;32m    619\u001b[0m \u001b[38;5;66;03m# Create the parser.\u001b[39;00m\n\u001b[1;32m--> 620\u001b[0m parser \u001b[38;5;241m=\u001b[39m TextFileReader(filepath_or_buffer, \u001b[38;5;241m*\u001b[39m\u001b[38;5;241m*\u001b[39mkwds)\n\u001b[0;32m    622\u001b[0m \u001b[38;5;28;01mif\u001b[39;00m chunksize \u001b[38;5;129;01mor\u001b[39;00m iterator:\n\u001b[0;32m    623\u001b[0m     \u001b[38;5;28;01mreturn\u001b[39;00m parser\n",
      "File \u001b[1;32mc:\\Users\\user\\Desktop\\shap-based_fs_smote\\venv\\lib\\site-packages\\pandas\\io\\parsers\\readers.py:1620\u001b[0m, in \u001b[0;36mTextFileReader.__init__\u001b[1;34m(self, f, engine, **kwds)\u001b[0m\n\u001b[0;32m   1617\u001b[0m     \u001b[38;5;28mself\u001b[39m\u001b[38;5;241m.\u001b[39moptions[\u001b[38;5;124m\"\u001b[39m\u001b[38;5;124mhas_index_names\u001b[39m\u001b[38;5;124m\"\u001b[39m] \u001b[38;5;241m=\u001b[39m kwds[\u001b[38;5;124m\"\u001b[39m\u001b[38;5;124mhas_index_names\u001b[39m\u001b[38;5;124m\"\u001b[39m]\n\u001b[0;32m   1619\u001b[0m \u001b[38;5;28mself\u001b[39m\u001b[38;5;241m.\u001b[39mhandles: IOHandles \u001b[38;5;241m|\u001b[39m \u001b[38;5;28;01mNone\u001b[39;00m \u001b[38;5;241m=\u001b[39m \u001b[38;5;28;01mNone\u001b[39;00m\n\u001b[1;32m-> 1620\u001b[0m \u001b[38;5;28mself\u001b[39m\u001b[38;5;241m.\u001b[39m_engine \u001b[38;5;241m=\u001b[39m \u001b[38;5;28;43mself\u001b[39;49m\u001b[38;5;241;43m.\u001b[39;49m\u001b[43m_make_engine\u001b[49m\u001b[43m(\u001b[49m\u001b[43mf\u001b[49m\u001b[43m,\u001b[49m\u001b[43m \u001b[49m\u001b[38;5;28;43mself\u001b[39;49m\u001b[38;5;241;43m.\u001b[39;49m\u001b[43mengine\u001b[49m\u001b[43m)\u001b[49m\n",
      "File \u001b[1;32mc:\\Users\\user\\Desktop\\shap-based_fs_smote\\venv\\lib\\site-packages\\pandas\\io\\parsers\\readers.py:1880\u001b[0m, in \u001b[0;36mTextFileReader._make_engine\u001b[1;34m(self, f, engine)\u001b[0m\n\u001b[0;32m   1878\u001b[0m     \u001b[38;5;28;01mif\u001b[39;00m \u001b[38;5;124m\"\u001b[39m\u001b[38;5;124mb\u001b[39m\u001b[38;5;124m\"\u001b[39m \u001b[38;5;129;01mnot\u001b[39;00m \u001b[38;5;129;01min\u001b[39;00m mode:\n\u001b[0;32m   1879\u001b[0m         mode \u001b[38;5;241m+\u001b[39m\u001b[38;5;241m=\u001b[39m \u001b[38;5;124m\"\u001b[39m\u001b[38;5;124mb\u001b[39m\u001b[38;5;124m\"\u001b[39m\n\u001b[1;32m-> 1880\u001b[0m \u001b[38;5;28mself\u001b[39m\u001b[38;5;241m.\u001b[39mhandles \u001b[38;5;241m=\u001b[39m \u001b[43mget_handle\u001b[49m\u001b[43m(\u001b[49m\n\u001b[0;32m   1881\u001b[0m \u001b[43m    \u001b[49m\u001b[43mf\u001b[49m\u001b[43m,\u001b[49m\n\u001b[0;32m   1882\u001b[0m \u001b[43m    \u001b[49m\u001b[43mmode\u001b[49m\u001b[43m,\u001b[49m\n\u001b[0;32m   1883\u001b[0m \u001b[43m    \u001b[49m\u001b[43mencoding\u001b[49m\u001b[38;5;241;43m=\u001b[39;49m\u001b[38;5;28;43mself\u001b[39;49m\u001b[38;5;241;43m.\u001b[39;49m\u001b[43moptions\u001b[49m\u001b[38;5;241;43m.\u001b[39;49m\u001b[43mget\u001b[49m\u001b[43m(\u001b[49m\u001b[38;5;124;43m\"\u001b[39;49m\u001b[38;5;124;43mencoding\u001b[39;49m\u001b[38;5;124;43m\"\u001b[39;49m\u001b[43m,\u001b[49m\u001b[43m \u001b[49m\u001b[38;5;28;43;01mNone\u001b[39;49;00m\u001b[43m)\u001b[49m\u001b[43m,\u001b[49m\n\u001b[0;32m   1884\u001b[0m \u001b[43m    \u001b[49m\u001b[43mcompression\u001b[49m\u001b[38;5;241;43m=\u001b[39;49m\u001b[38;5;28;43mself\u001b[39;49m\u001b[38;5;241;43m.\u001b[39;49m\u001b[43moptions\u001b[49m\u001b[38;5;241;43m.\u001b[39;49m\u001b[43mget\u001b[49m\u001b[43m(\u001b[49m\u001b[38;5;124;43m\"\u001b[39;49m\u001b[38;5;124;43mcompression\u001b[39;49m\u001b[38;5;124;43m\"\u001b[39;49m\u001b[43m,\u001b[49m\u001b[43m \u001b[49m\u001b[38;5;28;43;01mNone\u001b[39;49;00m\u001b[43m)\u001b[49m\u001b[43m,\u001b[49m\n\u001b[0;32m   1885\u001b[0m \u001b[43m    \u001b[49m\u001b[43mmemory_map\u001b[49m\u001b[38;5;241;43m=\u001b[39;49m\u001b[38;5;28;43mself\u001b[39;49m\u001b[38;5;241;43m.\u001b[39;49m\u001b[43moptions\u001b[49m\u001b[38;5;241;43m.\u001b[39;49m\u001b[43mget\u001b[49m\u001b[43m(\u001b[49m\u001b[38;5;124;43m\"\u001b[39;49m\u001b[38;5;124;43mmemory_map\u001b[39;49m\u001b[38;5;124;43m\"\u001b[39;49m\u001b[43m,\u001b[49m\u001b[43m \u001b[49m\u001b[38;5;28;43;01mFalse\u001b[39;49;00m\u001b[43m)\u001b[49m\u001b[43m,\u001b[49m\n\u001b[0;32m   1886\u001b[0m \u001b[43m    \u001b[49m\u001b[43mis_text\u001b[49m\u001b[38;5;241;43m=\u001b[39;49m\u001b[43mis_text\u001b[49m\u001b[43m,\u001b[49m\n\u001b[0;32m   1887\u001b[0m \u001b[43m    \u001b[49m\u001b[43merrors\u001b[49m\u001b[38;5;241;43m=\u001b[39;49m\u001b[38;5;28;43mself\u001b[39;49m\u001b[38;5;241;43m.\u001b[39;49m\u001b[43moptions\u001b[49m\u001b[38;5;241;43m.\u001b[39;49m\u001b[43mget\u001b[49m\u001b[43m(\u001b[49m\u001b[38;5;124;43m\"\u001b[39;49m\u001b[38;5;124;43mencoding_errors\u001b[39;49m\u001b[38;5;124;43m\"\u001b[39;49m\u001b[43m,\u001b[49m\u001b[43m \u001b[49m\u001b[38;5;124;43m\"\u001b[39;49m\u001b[38;5;124;43mstrict\u001b[39;49m\u001b[38;5;124;43m\"\u001b[39;49m\u001b[43m)\u001b[49m\u001b[43m,\u001b[49m\n\u001b[0;32m   1888\u001b[0m \u001b[43m    \u001b[49m\u001b[43mstorage_options\u001b[49m\u001b[38;5;241;43m=\u001b[39;49m\u001b[38;5;28;43mself\u001b[39;49m\u001b[38;5;241;43m.\u001b[39;49m\u001b[43moptions\u001b[49m\u001b[38;5;241;43m.\u001b[39;49m\u001b[43mget\u001b[49m\u001b[43m(\u001b[49m\u001b[38;5;124;43m\"\u001b[39;49m\u001b[38;5;124;43mstorage_options\u001b[39;49m\u001b[38;5;124;43m\"\u001b[39;49m\u001b[43m,\u001b[49m\u001b[43m \u001b[49m\u001b[38;5;28;43;01mNone\u001b[39;49;00m\u001b[43m)\u001b[49m\u001b[43m,\u001b[49m\n\u001b[0;32m   1889\u001b[0m \u001b[43m\u001b[49m\u001b[43m)\u001b[49m\n\u001b[0;32m   1890\u001b[0m \u001b[38;5;28;01massert\u001b[39;00m \u001b[38;5;28mself\u001b[39m\u001b[38;5;241m.\u001b[39mhandles \u001b[38;5;129;01mis\u001b[39;00m \u001b[38;5;129;01mnot\u001b[39;00m \u001b[38;5;28;01mNone\u001b[39;00m\n\u001b[0;32m   1891\u001b[0m f \u001b[38;5;241m=\u001b[39m \u001b[38;5;28mself\u001b[39m\u001b[38;5;241m.\u001b[39mhandles\u001b[38;5;241m.\u001b[39mhandle\n",
      "File \u001b[1;32mc:\\Users\\user\\Desktop\\shap-based_fs_smote\\venv\\lib\\site-packages\\pandas\\io\\common.py:873\u001b[0m, in \u001b[0;36mget_handle\u001b[1;34m(path_or_buf, mode, encoding, compression, memory_map, is_text, errors, storage_options)\u001b[0m\n\u001b[0;32m    868\u001b[0m \u001b[38;5;28;01melif\u001b[39;00m \u001b[38;5;28misinstance\u001b[39m(handle, \u001b[38;5;28mstr\u001b[39m):\n\u001b[0;32m    869\u001b[0m     \u001b[38;5;66;03m# Check whether the filename is to be opened in binary mode.\u001b[39;00m\n\u001b[0;32m    870\u001b[0m     \u001b[38;5;66;03m# Binary mode does not support 'encoding' and 'newline'.\u001b[39;00m\n\u001b[0;32m    871\u001b[0m     \u001b[38;5;28;01mif\u001b[39;00m ioargs\u001b[38;5;241m.\u001b[39mencoding \u001b[38;5;129;01mand\u001b[39;00m \u001b[38;5;124m\"\u001b[39m\u001b[38;5;124mb\u001b[39m\u001b[38;5;124m\"\u001b[39m \u001b[38;5;129;01mnot\u001b[39;00m \u001b[38;5;129;01min\u001b[39;00m ioargs\u001b[38;5;241m.\u001b[39mmode:\n\u001b[0;32m    872\u001b[0m         \u001b[38;5;66;03m# Encoding\u001b[39;00m\n\u001b[1;32m--> 873\u001b[0m         handle \u001b[38;5;241m=\u001b[39m \u001b[38;5;28;43mopen\u001b[39;49m\u001b[43m(\u001b[49m\n\u001b[0;32m    874\u001b[0m \u001b[43m            \u001b[49m\u001b[43mhandle\u001b[49m\u001b[43m,\u001b[49m\n\u001b[0;32m    875\u001b[0m \u001b[43m            \u001b[49m\u001b[43mioargs\u001b[49m\u001b[38;5;241;43m.\u001b[39;49m\u001b[43mmode\u001b[49m\u001b[43m,\u001b[49m\n\u001b[0;32m    876\u001b[0m \u001b[43m            \u001b[49m\u001b[43mencoding\u001b[49m\u001b[38;5;241;43m=\u001b[39;49m\u001b[43mioargs\u001b[49m\u001b[38;5;241;43m.\u001b[39;49m\u001b[43mencoding\u001b[49m\u001b[43m,\u001b[49m\n\u001b[0;32m    877\u001b[0m \u001b[43m            \u001b[49m\u001b[43merrors\u001b[49m\u001b[38;5;241;43m=\u001b[39;49m\u001b[43merrors\u001b[49m\u001b[43m,\u001b[49m\n\u001b[0;32m    878\u001b[0m \u001b[43m            \u001b[49m\u001b[43mnewline\u001b[49m\u001b[38;5;241;43m=\u001b[39;49m\u001b[38;5;124;43m\"\u001b[39;49m\u001b[38;5;124;43m\"\u001b[39;49m\u001b[43m,\u001b[49m\n\u001b[0;32m    879\u001b[0m \u001b[43m        \u001b[49m\u001b[43m)\u001b[49m\n\u001b[0;32m    880\u001b[0m     \u001b[38;5;28;01melse\u001b[39;00m:\n\u001b[0;32m    881\u001b[0m         \u001b[38;5;66;03m# Binary mode\u001b[39;00m\n\u001b[0;32m    882\u001b[0m         handle \u001b[38;5;241m=\u001b[39m \u001b[38;5;28mopen\u001b[39m(handle, ioargs\u001b[38;5;241m.\u001b[39mmode)\n",
      "\u001b[1;31mFileNotFoundError\u001b[0m: [Errno 2] No such file or directory: 'C:/Users/user/Desktop/shap-based_fs_smote/results/shap_xgb_no_ranking.csv'"
     ]
    }
   ],
   "source": [
    "# Read the CSV file\n",
    "df = pd.read_csv(\"results/shap_xgb_no_ranking.csv\")\n",
    "\n",
    "# Set display option to show all rows\n",
    "pd.set_option('display.max_rows', None)  # Display all rows\n",
    "\n",
    "# Display the DataFrame after loading\n",
    "print(df)\n"
   ]
  },
  {
   "cell_type": "code",
   "execution_count": null,
   "id": "1f5f339c",
   "metadata": {},
   "outputs": [
    {
     "name": "stdout",
     "output_type": "stream",
     "text": [
      "                        feature      masv\n",
      "0              Destination Port  1.658366\n",
      "1                 Flow Duration  0.133395\n",
      "2             Total Fwd Packets  0.066365\n",
      "3        Total Backward Packets  0.022520\n",
      "4   Total Length of Fwd Packets  0.193250\n",
      "5   Total Length of Bwd Packets  0.049359\n",
      "6         Fwd Packet Length Max  0.088659\n",
      "7         Fwd Packet Length Min  0.023400\n",
      "8        Fwd Packet Length Mean  0.057904\n",
      "9         Fwd Packet Length Std  0.133472\n",
      "10        Bwd Packet Length Max  0.071929\n",
      "11        Bwd Packet Length Min  0.073077\n",
      "12       Bwd Packet Length Mean  0.146394\n",
      "13        Bwd Packet Length Std  0.189442\n",
      "14                 Flow Bytes/s  0.246137\n",
      "15               Flow Packets/s  0.058912\n",
      "16                Flow IAT Mean  0.093172\n",
      "17                 Flow IAT Std  0.126996\n",
      "18                 Flow IAT Max  0.156475\n",
      "19                 Flow IAT Min  0.265135\n",
      "20                Fwd IAT Total  0.115806\n",
      "21                 Fwd IAT Mean  0.058377\n",
      "22                  Fwd IAT Std  0.071909\n",
      "23                  Fwd IAT Max  0.087447\n",
      "24                  Fwd IAT Min  0.263969\n",
      "25                Bwd IAT Total  0.028413\n",
      "26                 Bwd IAT Mean  0.017866\n",
      "27                  Bwd IAT Std  0.065270\n",
      "28                  Bwd IAT Max  0.018398\n",
      "29                  Bwd IAT Min  0.066084\n",
      "30                Fwd PSH Flags  0.004006\n",
      "31                Bwd PSH Flags  0.000000\n",
      "32                Fwd URG Flags  0.000000\n",
      "33                Bwd URG Flags  0.000000\n",
      "34            Fwd Header Length  0.135196\n",
      "35            Bwd Header Length  0.044852\n",
      "36                Fwd Packets/s  0.077551\n",
      "37                Bwd Packets/s  0.378943\n",
      "38            Min Packet Length  0.105624\n",
      "39            Max Packet Length  0.054756\n",
      "40           Packet Length Mean  0.313443\n",
      "41            Packet Length Std  0.078239\n",
      "42       Packet Length Variance  0.000000\n",
      "43               FIN Flag Count  0.021521\n",
      "44               SYN Flag Count  0.000000\n",
      "45               RST Flag Count  0.000000\n",
      "46               PSH Flag Count  0.120550\n",
      "47               ACK Flag Count  0.011930\n",
      "48               URG Flag Count  0.068738\n",
      "49               CWE Flag Count  0.000000\n",
      "50               ECE Flag Count  0.000000\n",
      "51                Down/Up Ratio  0.019645\n",
      "52          Average Packet Size  0.169011\n",
      "53         Avg Fwd Segment Size  0.000000\n",
      "54         Avg Bwd Segment Size  0.000000\n",
      "55           Fwd Avg Bytes/Bulk  0.000000\n",
      "56         Fwd Avg Packets/Bulk  0.000000\n",
      "57            Fwd Avg Bulk Rate  0.000000\n",
      "58           Bwd Avg Bytes/Bulk  0.000000\n",
      "59         Bwd Avg Packets/Bulk  0.000000\n",
      "60            Bwd Avg Bulk Rate  0.000000\n",
      "61          Subflow Fwd Packets  0.000000\n",
      "62            Subflow Fwd Bytes  0.000000\n",
      "63          Subflow Bwd Packets  0.000000\n",
      "64            Subflow Bwd Bytes  0.000000\n",
      "65       Init_Win_bytes_forward  0.532161\n",
      "66      Init_Win_bytes_backward  0.452765\n",
      "67             act_data_pkt_fwd  0.040550\n",
      "68         min_seg_size_forward  0.335791\n",
      "69                  Active Mean  0.004974\n",
      "70                   Active Std  0.004607\n",
      "71                   Active Max  0.011086\n",
      "72                   Active Min  0.019504\n",
      "73                    Idle Mean  0.008059\n",
      "74                     Idle Std  0.000616\n",
      "75                     Idle Max  0.004082\n",
      "76                     Idle Min  0.052104\n"
     ]
    }
   ],
   "source": [
    "# Rename columns\n",
    "df.rename(columns={'Unnamed: 0': 'feature', 'Mean |SHAP|': 'masv'}, inplace=True)\n",
    "\n",
    "# Set display option to show all rows\n",
    "pd.set_option('display.max_rows', None)  # Display all rows\n",
    "\n",
    "# Display the DataFrame after renaming columns\n",
    "print(df)"
   ]
  },
  {
   "cell_type": "code",
   "execution_count": null,
   "id": "0978d612",
   "metadata": {},
   "outputs": [
    {
     "name": "stdout",
     "output_type": "stream",
     "text": [
      "Jumlah baris dalam DataFrame: 77\n"
     ]
    }
   ],
   "source": [
    "num_rows = len(df)\n",
    "print(\"Number of rows in the DataFrame:\", num_rows)"
   ]
  },
  {
   "cell_type": "code",
   "execution_count": null,
   "id": "8f2eba50",
   "metadata": {},
   "outputs": [],
   "source": [
    "# Save back to CSV file\n",
    "df.to_csv(\"results/xgbmasv.csv\", index=False)"
   ]
  },
  {
   "cell_type": "code",
   "execution_count": null,
   "id": "6c332aee",
   "metadata": {},
   "outputs": [],
   "source": []
  }
 ],
 "metadata": {
  "kernelspec": {
   "display_name": "venv",
   "language": "python",
   "name": "python3"
  },
  "language_info": {
   "codemirror_mode": {
    "name": "ipython",
    "version": 3
   },
   "file_extension": ".py",
   "mimetype": "text/x-python",
   "name": "python",
   "nbconvert_exporter": "python",
   "pygments_lexer": "ipython3",
   "version": "3.9.13"
  }
 },
 "nbformat": 4,
 "nbformat_minor": 5
}
